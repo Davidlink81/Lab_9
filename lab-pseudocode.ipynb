{
 "cells": [
  {
   "cell_type": "markdown",
   "metadata": {},
   "source": [
    "# PSEUDOCODE\n",
    "\n",
    "(Please dont kill me)"
   ]
  },
  {
   "cell_type": "markdown",
   "metadata": {},
   "source": [
    "In this lab, you will work to find any solution(hopefully the easiest) to complete this exercises. \n",
    "\n",
    "The second 1 is a BONUS\n",
    "\n",
    "Any further question please ask me or Sandra"
   ]
  },
  {
   "cell_type": "markdown",
   "metadata": {},
   "source": [
    "## EXERCISE 1: RANDOM GUESS OF A NUMBER\n",
    "\n",
    "The user must give you the start and final number. Your code must be developed to select a random number between this 2. If your selection is too high/low you must give a hint to the user: The number is too high/low. Finally, when the user selects the correct number you must return a \"Congratulations etc\" and the number of guesses needed to find the number. \n",
    "\n",
    "IF YOU TRY IT AND YOU FIND THE NUMBER FIRST GUESS, PLEASE SEND A SCREENSHOT VIA SLACK `(MANDATORY)`"
   ]
  },
  {
   "cell_type": "code",
   "execution_count": 10,
   "metadata": {
    "tags": []
   },
   "outputs": [
    {
     "name": "stdin",
     "output_type": "stream",
     "text": [
      "Introduce el número inicial: 1\n",
      "Introduce el número final: 3\n",
      "Intentantalo de nuevo con otro número: 2\n"
     ]
    },
    {
     "name": "stdout",
     "output_type": "stream",
     "text": [
      "El número es demasiado alto.\n"
     ]
    },
    {
     "name": "stdin",
     "output_type": "stream",
     "text": [
      "Intentantalo de nuevo con otro número: 1\n"
     ]
    },
    {
     "name": "stdout",
     "output_type": "stream",
     "text": [
      "Acertaste! Has adiviando el número 1 en 2 intentos.\n"
     ]
    }
   ],
   "source": [
    "import random\n",
    "\n",
    "número_inicial = int(input(\"Introduce el número inicial:\"))\n",
    "número_final = int(input(\"Introduce el número final:\"))\n",
    "\n",
    "número_random = random.randint(número_inicial, número_final)\n",
    "\n",
    "adivinar = None\n",
    "intentos = 0\n",
    "\n",
    "while adivinar != número_random:\n",
    "    adivinar = int(input(\"Intentantalo de nuevo con otro número:\"))\n",
    "    intentos +=1\n",
    "    \n",
    "    if adivinar < número_random:\n",
    "        print (\"El número es demasiado bajo.\")\n",
    "  \n",
    "    elif adivinar > número_random:\n",
    "        print (\"El número es demasiado alto.\")\n",
    "        \n",
    "print (f\"Acertaste! Has adiviando el número {número_random} en {intentos} intentos.\")"
   ]
  },
  {
   "cell_type": "markdown",
   "metadata": {},
   "source": [
    "## EXERCISE 2 (OPTIONAL): LET'S DEVELOP R-P-S"
   ]
  },
  {
   "cell_type": "markdown",
   "metadata": {},
   "source": [
    "Let's develop the code used in class: The R-P-S (Example below)\n",
    "The main problem with this code is that whoever wins a round, wins the match: The user must select the number of rounds needed to win the match. Enjoy!"
   ]
  },
  {
   "cell_type": "code",
   "execution_count": 19,
   "metadata": {
    "tags": []
   },
   "outputs": [
    {
     "name": "stdin",
     "output_type": "stream",
     "text": [
      "Introduce el número de rondas necesarias para ganar:  2\n",
      "Un dos tres, piedra papel tijera un dos tres YA:  piedra\n"
     ]
    },
    {
     "name": "stdout",
     "output_type": "stream",
     "text": [
      "Tú has elegido piedra y la máquina ha elegido tijera\n",
      "Has ganado esta ronda!\n"
     ]
    },
    {
     "name": "stdin",
     "output_type": "stream",
     "text": [
      "Un dos tres, piedra papel tijera un dos tres YA:  piedra\n"
     ]
    },
    {
     "name": "stdout",
     "output_type": "stream",
     "text": [
      "Tú has elegido piedra y la máquina ha elegido papel\n",
      "Has perdido esta ronda.\n"
     ]
    },
    {
     "name": "stdin",
     "output_type": "stream",
     "text": [
      "Un dos tres, piedra papel tijera un dos tres YA:  papel\n"
     ]
    },
    {
     "name": "stdout",
     "output_type": "stream",
     "text": [
      "Tú has elegido papel y la máquina ha elegido tijera\n",
      "Has perdido esta ronda.\n",
      "Lo siento! La CPU ha ganado la partida!\n"
     ]
    }
   ],
   "source": [
    "def rps(): \n",
    "    import random\n",
    "    número_rondas = int(input(\"Introduce el número de rondas necesarias para ganar: \"))\n",
    "    opciones=[\"tijera\", \"piedra\", \"papel\"]\n",
    "    user_score=0\n",
    "    cpu_score=0\n",
    "    \n",
    "    while user_score < número_rondas and cpu_score < número_rondas:\n",
    "        user=input(\"Un dos tres, piedra papel tijera un dos tres YA: \").lower()\n",
    "        cpu=random.choice(opciones)\n",
    "\n",
    "        if user in opciones:\n",
    "            print(f\"Tú has elegido {user} y la máquina ha elegido {cpu}\")\n",
    "            \n",
    "            if (user==\"tijera\" and cpu==\"papel\") or (user==\"papel\" and cpu==\"piedra\") or (user==\"piedra\" and cpu==\"tijera\"):\n",
    "                print(\"Has ganado esta ronda!\")\n",
    "                user_score+=1\n",
    "            elif user==cpu:\n",
    "                print(\"Empataste!\")   \n",
    "            else:\n",
    "                print(\"Has perdido esta ronda.\")\n",
    "                cpu_score+=1\n",
    "                          \n",
    "        else:\n",
    "            print(\"ESO NO VALE. Dime otra cosa: \")  \n",
    "            \n",
    "    if user_score > cpu_score:\n",
    "         print(\"Genial! Has ganado la partida!\")\n",
    "      \n",
    "    else:\n",
    "        print (\"Lo siento! La CPU ha ganado la partida!\")\n",
    "                          \n",
    "rps()                      "
   ]
  },
  {
   "cell_type": "code",
   "execution_count": null,
   "metadata": {},
   "outputs": [],
   "source": []
  }
 ],
 "metadata": {
  "kernelspec": {
   "display_name": "Python 3 (ipykernel)",
   "language": "python",
   "name": "python3"
  },
  "language_info": {
   "codemirror_mode": {
    "name": "ipython",
    "version": 3
   },
   "file_extension": ".py",
   "mimetype": "text/x-python",
   "name": "python",
   "nbconvert_exporter": "python",
   "pygments_lexer": "ipython3",
   "version": "3.11.5"
  }
 },
 "nbformat": 4,
 "nbformat_minor": 4
}
